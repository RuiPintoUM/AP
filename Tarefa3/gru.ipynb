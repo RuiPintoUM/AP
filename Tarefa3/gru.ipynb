{
 "cells": [
  {
   "cell_type": "markdown",
   "metadata": {},
   "source": [
    "# Aprendizem Profunda - GRU\n",
    "### Tarefa III\n",
    "1. Rúben Gonçalo Araújo da Silva pg57900   \n",
    "2. José Luis Fraga Costa pg55970\n",
    "3. Pedro Miguel Costa Azevedo pg57897\n",
    "4. Rui Pedro Fernandes Madeira Pinto pg56010"
   ]
  },
  {
   "cell_type": "markdown",
   "metadata": {},
   "source": [
    "# Implementação"
   ]
  },
  {
   "cell_type": "markdown",
   "metadata": {},
   "source": [
    "### imports\n",
    "\n",
    "1. pandas\n",
    "2. tensorflow\n",
    "3. sklearn"
   ]
  },
  {
   "cell_type": "code",
   "execution_count": 1,
   "metadata": {},
   "outputs": [
    {
     "name": "stderr",
     "output_type": "stream",
     "text": [
      "2025-03-25 23:30:42.356080: I tensorflow/core/util/port.cc:113] oneDNN custom operations are on. You may see slightly different numerical results due to floating-point round-off errors from different computation orders. To turn them off, set the environment variable `TF_ENABLE_ONEDNN_OPTS=0`.\n",
      "2025-03-25 23:30:42.356529: I external/local_tsl/tsl/cuda/cudart_stub.cc:32] Could not find cuda drivers on your machine, GPU will not be used.\n",
      "2025-03-25 23:30:42.359060: I external/local_tsl/tsl/cuda/cudart_stub.cc:32] Could not find cuda drivers on your machine, GPU will not be used.\n",
      "2025-03-25 23:30:42.394194: I tensorflow/core/platform/cpu_feature_guard.cc:210] This TensorFlow binary is optimized to use available CPU instructions in performance-critical operations.\n",
      "To enable the following instructions: AVX2 AVX512F AVX512_VNNI FMA, in other operations, rebuild TensorFlow with the appropriate compiler flags.\n",
      "2025-03-25 23:30:43.543062: W tensorflow/compiler/tf2tensorrt/utils/py_utils.cc:38] TF-TRT Warning: Could not find TensorRT\n",
      "/home/rui/miniconda3/lib/python3.12/site-packages/tqdm/auto.py:21: TqdmWarning: IProgress not found. Please update jupyter and ipywidgets. See https://ipywidgets.readthedocs.io/en/stable/user_install.html\n",
      "  from .autonotebook import tqdm as notebook_tqdm\n"
     ]
    }
   ],
   "source": [
    "# Standard Library\n",
    "import os\n",
    "import csv\n",
    "\n",
    "# Data Handling\n",
    "import pandas as pd\n",
    "import numpy as np\n",
    "\n",
    "# Scikit-learn\n",
    "from sklearn.model_selection import train_test_split\n",
    "from sklearn.metrics import classification_report\n",
    "\n",
    "# TensorFlow / Keras\n",
    "import tensorflow as tf\n",
    "from tensorflow.keras.models import Sequential\n",
    "from tensorflow.keras.layers import (\n",
    "    Embedding, Flatten, Dense, Dropout, SimpleRNN, GRU, LSTM, \n",
    "    Bidirectional, GlobalMaxPooling1D, GlobalAveragePooling1D, \n",
    "    BatchNormalization\n",
    ")\n",
    "from tensorflow.keras.preprocessing.text import Tokenizer\n",
    "from tensorflow.keras.preprocessing.sequence import pad_sequences\n",
    "from tensorflow.keras.regularizers import l2\n",
    "from tensorflow.keras.callbacks import EarlyStopping, ReduceLROnPlateau\n",
    "from tensorflow.keras.optimizers import Adam\n",
    "\n",
    "# Hugging Face Transformers\n",
    "from transformers import (\n",
    "    AutoTokenizer, \n",
    "    TFAutoModelForSequenceClassification, \n",
    "    pipeline\n",
    ")\n"
   ]
  },
  {
   "cell_type": "markdown",
   "metadata": {},
   "source": [
    "### Input dos dados"
   ]
  },
  {
   "cell_type": "code",
   "execution_count": 2,
   "metadata": {},
   "outputs": [],
   "source": [
    "df = pd.read_csv(\"data/dataset_final.csv\")\n",
    "df = df.dropna(subset=[\"Label\"])\n",
    "df[\"Text\"] = df[\"Text\"].fillna(\"\")\n",
    "all_ids = df[\"ID\"].fillna(\"\")\n",
    "test_ids = df[\"ID\"].fillna(\"\")\n"
   ]
  },
  {
   "cell_type": "markdown",
   "metadata": {},
   "source": [
    "### Função pra gravar em csv"
   ]
  },
  {
   "cell_type": "code",
   "execution_count": 3,
   "metadata": {},
   "outputs": [],
   "source": [
    "def to_csv(results_df, name):\n",
    "    os.makedirs(\"submissao2\", exist_ok=True)\n",
    "    path = f\"submissao2/{name}.csv\"\n",
    "    filtered_df = results_df[results_df[\"ID\"].notna() & (results_df[\"ID\"] != \"\")].copy()\n",
    "    filtered_df['prefix'] = filtered_df['ID'].str.extract(r'(D[0-9])')\n",
    "    filtered_df['number'] = filtered_df['ID'].str.extract(r'-(\\d+)').astype(int)\n",
    "    filtered_df = filtered_df.sort_values(by=['prefix', 'number'])\n",
    "\n",
    "    with open(path, 'w') as f:\n",
    "        f.write(\"ID\\tLabel\\n\") \n",
    "        for index, row in filtered_df.iterrows():\n",
    "            f.write(f\"{row['ID']}\\t{row['Label']}\\n\") "
   ]
  },
  {
   "cell_type": "code",
   "execution_count": 4,
   "metadata": {},
   "outputs": [],
   "source": [
    "def predict_and_save(model, X_data, ids, model_name):\n",
    "    # Generate predictions\n",
    "    y_pred = (model.predict(X_data) > 0.5).astype(int).flatten()\n",
    "\n",
    "    # Convert numeric predictions to labels\n",
    "    labels = [\"Human\" if label == 0 else \"AI\" for label in y_pred]\n",
    "    # Create results DataFrame\n",
    "    results_df = pd.DataFrame({\n",
    "        \"ID\": ids,\n",
    "        \"Label\": labels\n",
    "    })\n",
    "    to_csv(results_df, model_name)"
   ]
  },
  {
   "cell_type": "markdown",
   "metadata": {},
   "source": [
    "### Train Test Split (divisão de dados)"
   ]
  },
  {
   "cell_type": "code",
   "execution_count": 5,
   "metadata": {},
   "outputs": [
    {
     "name": "stdout",
     "output_type": "stream",
     "text": [
      "Original dataset size: 10000, Unique texts: 10000\n",
      "Overlap between train and test after deduplication: 0\n"
     ]
    }
   ],
   "source": [
    "# Remove duplicates by keeping the first occurrence\n",
    "df_unique = df.drop_duplicates(subset=[\"Text\"], keep=\"first\")\n",
    "\n",
    "# Check how many rows remain\n",
    "print(f\"Original dataset size: {len(df)}, Unique texts: {len(df_unique)}\")\n",
    "\n",
    "# Split the deduplicated dataset\n",
    "train_texts, test_texts, train_labels, test_labels = train_test_split(\n",
    "    df_unique[\"Text\"], df_unique[\"Label\"], test_size=0.2, random_state=42, stratify=df_unique[\"Label\"]\n",
    ")\n",
    "test_indices = test_texts.index\n",
    "\n",
    "train_texts, val_texts, train_labels, val_labels = train_test_split(\n",
    "    train_texts, train_labels, test_size=0.2, random_state=42, stratify=train_labels\n",
    ")\n",
    "\n",
    "# Verify no overlap\n",
    "print(f\"Overlap between train and test after deduplication: {len(set(train_texts) & set(test_texts))}\")\n"
   ]
  },
  {
   "cell_type": "markdown",
   "metadata": {},
   "source": [
    "### Tokenizer"
   ]
  },
  {
   "cell_type": "code",
   "execution_count": 6,
   "metadata": {},
   "outputs": [],
   "source": [
    "# Tokenize the data\n",
    "tokenizer = Tokenizer(num_words=10000)\n",
    "tokenizer.fit_on_texts(train_texts)\n",
    "\n",
    "X_train_seq = tokenizer.texts_to_sequences(train_texts)\n",
    "X_val_seq = tokenizer.texts_to_sequences(val_texts)\n",
    "X_test_seq = tokenizer.texts_to_sequences(test_texts)\n",
    "\n",
    "X_train = pad_sequences(X_train_seq, maxlen=100)\n",
    "X_val = pad_sequences(X_val_seq, maxlen=100)\n",
    "X_test = pad_sequences(X_test_seq, maxlen=100)\n",
    "\n",
    "# Convert string labels to numeric values\n",
    "label_map = {\"Human\": 0, \"AI\": 1}  # Define mapping\n",
    "y_train = np.array([label_map[label] for label in train_labels], dtype=np.float32)\n",
    "y_val = np.array([label_map[label] for label in val_labels], dtype=np.float32)\n",
    "y_test = np.array([label_map[label] for label in test_labels], dtype=np.float32)"
   ]
  },
  {
   "cell_type": "markdown",
   "metadata": {},
   "source": [
    "## Dataset de Avaliação"
   ]
  },
  {
   "cell_type": "code",
   "execution_count": 7,
   "metadata": {},
   "outputs": [],
   "source": [
    "data_set_professor = pd.read_csv(\"data/dataset3_inputs.csv\", sep=';', on_bad_lines='skip')\n",
    "data_set_professor[\"Text\"] = data_set_professor[\"Text\"].fillna(\"\")\n",
    "X_professor_seq = tokenizer.texts_to_sequences(data_set_professor[\"Text\"])\n",
    "X_professor = pad_sequences(X_professor_seq, maxlen=100)  "
   ]
  },
  {
   "cell_type": "markdown",
   "metadata": {},
   "source": [
    "### Early Stopping"
   ]
  },
  {
   "cell_type": "code",
   "execution_count": 8,
   "metadata": {},
   "outputs": [],
   "source": [
    "early_stopping = EarlyStopping(\n",
    "    monitor='val_loss',     \n",
    "    patience=10,            \n",
    "    restore_best_weights=True,           \n",
    ")"
   ]
  },
  {
   "cell_type": "markdown",
   "metadata": {},
   "source": [
    "### Reduce_lr"
   ]
  },
  {
   "cell_type": "code",
   "execution_count": 9,
   "metadata": {},
   "outputs": [],
   "source": [
    "reduce_lr = ReduceLROnPlateau(\n",
    "    monitor='val_loss',\n",
    "    factor=0.5, \n",
    "    patience=3,\n",
    "    min_lr=0.00005\n",
    ")"
   ]
  },
  {
   "cell_type": "markdown",
   "metadata": {},
   "source": [
    "## GRU"
   ]
  },
  {
   "cell_type": "code",
   "execution_count": 10,
   "metadata": {},
   "outputs": [
    {
     "name": "stdout",
     "output_type": "stream",
     "text": [
      "Epoch 1/30\n"
     ]
    },
    {
     "name": "stderr",
     "output_type": "stream",
     "text": [
      "/home/rui/miniconda3/lib/python3.12/site-packages/keras/src/layers/core/embedding.py:90: UserWarning: Argument `input_length` is deprecated. Just remove it.\n",
      "  warnings.warn(\n"
     ]
    },
    {
     "name": "stdout",
     "output_type": "stream",
     "text": [
      "\u001b[1m400/400\u001b[0m \u001b[32m━━━━━━━━━━━━━━━━━━━━\u001b[0m\u001b[37m\u001b[0m \u001b[1m11s\u001b[0m 22ms/step - accuracy: 0.8720 - loss: 0.4792 - val_accuracy: 0.9981 - val_loss: 0.1170 - learning_rate: 0.0010\n",
      "Epoch 2/30\n",
      "\u001b[1m400/400\u001b[0m \u001b[32m━━━━━━━━━━━━━━━━━━━━\u001b[0m\u001b[37m\u001b[0m \u001b[1m8s\u001b[0m 21ms/step - accuracy: 0.9889 - loss: 0.1292 - val_accuracy: 0.9987 - val_loss: 0.0545 - learning_rate: 0.0010\n",
      "Epoch 3/30\n",
      "\u001b[1m400/400\u001b[0m \u001b[32m━━━━━━━━━━━━━━━━━━━━\u001b[0m\u001b[37m\u001b[0m \u001b[1m10s\u001b[0m 25ms/step - accuracy: 0.9945 - loss: 0.0818 - val_accuracy: 1.0000 - val_loss: 0.0402 - learning_rate: 0.0010\n",
      "Epoch 4/30\n",
      "\u001b[1m400/400\u001b[0m \u001b[32m━━━━━━━━━━━━━━━━━━━━\u001b[0m\u001b[37m\u001b[0m \u001b[1m11s\u001b[0m 27ms/step - accuracy: 0.9996 - loss: 0.0578 - val_accuracy: 1.0000 - val_loss: 0.0347 - learning_rate: 0.0010\n",
      "Epoch 5/30\n",
      "\u001b[1m400/400\u001b[0m \u001b[32m━━━━━━━━━━━━━━━━━━━━\u001b[0m\u001b[37m\u001b[0m \u001b[1m11s\u001b[0m 28ms/step - accuracy: 0.9999 - loss: 0.0541 - val_accuracy: 1.0000 - val_loss: 0.0328 - learning_rate: 0.0010\n",
      "Epoch 6/30\n",
      "\u001b[1m400/400\u001b[0m \u001b[32m━━━━━━━━━━━━━━━━━━━━\u001b[0m\u001b[37m\u001b[0m \u001b[1m11s\u001b[0m 28ms/step - accuracy: 0.9993 - loss: 0.0495 - val_accuracy: 1.0000 - val_loss: 0.0301 - learning_rate: 0.0010\n",
      "Epoch 7/30\n",
      "\u001b[1m400/400\u001b[0m \u001b[32m━━━━━━━━━━━━━━━━━━━━\u001b[0m\u001b[37m\u001b[0m \u001b[1m11s\u001b[0m 28ms/step - accuracy: 0.9988 - loss: 0.0463 - val_accuracy: 1.0000 - val_loss: 0.0281 - learning_rate: 0.0010\n",
      "Epoch 8/30\n",
      "\u001b[1m400/400\u001b[0m \u001b[32m━━━━━━━━━━━━━━━━━━━━\u001b[0m\u001b[37m\u001b[0m \u001b[1m11s\u001b[0m 28ms/step - accuracy: 0.9985 - loss: 0.0449 - val_accuracy: 1.0000 - val_loss: 0.0268 - learning_rate: 0.0010\n",
      "Epoch 9/30\n",
      "\u001b[1m400/400\u001b[0m \u001b[32m━━━━━━━━━━━━━━━━━━━━\u001b[0m\u001b[37m\u001b[0m \u001b[1m11s\u001b[0m 28ms/step - accuracy: 0.9994 - loss: 0.0413 - val_accuracy: 1.0000 - val_loss: 0.0253 - learning_rate: 0.0010\n",
      "Epoch 10/30\n",
      "\u001b[1m400/400\u001b[0m \u001b[32m━━━━━━━━━━━━━━━━━━━━\u001b[0m\u001b[37m\u001b[0m \u001b[1m11s\u001b[0m 28ms/step - accuracy: 0.9999 - loss: 0.0409 - val_accuracy: 1.0000 - val_loss: 0.0233 - learning_rate: 0.0010\n",
      "Epoch 11/30\n",
      "\u001b[1m400/400\u001b[0m \u001b[32m━━━━━━━━━━━━━━━━━━━━\u001b[0m\u001b[37m\u001b[0m \u001b[1m11s\u001b[0m 28ms/step - accuracy: 0.9991 - loss: 0.0388 - val_accuracy: 1.0000 - val_loss: 0.0222 - learning_rate: 0.0010\n",
      "Epoch 12/30\n",
      "\u001b[1m400/400\u001b[0m \u001b[32m━━━━━━━━━━━━━━━━━━━━\u001b[0m\u001b[37m\u001b[0m \u001b[1m11s\u001b[0m 28ms/step - accuracy: 0.9996 - loss: 0.0333 - val_accuracy: 1.0000 - val_loss: 0.0205 - learning_rate: 0.0010\n",
      "Epoch 13/30\n",
      "\u001b[1m400/400\u001b[0m \u001b[32m━━━━━━━━━━━━━━━━━━━━\u001b[0m\u001b[37m\u001b[0m \u001b[1m11s\u001b[0m 28ms/step - accuracy: 0.9993 - loss: 0.0324 - val_accuracy: 1.0000 - val_loss: 0.0195 - learning_rate: 0.0010\n",
      "Epoch 14/30\n",
      "\u001b[1m400/400\u001b[0m \u001b[32m━━━━━━━━━━━━━━━━━━━━\u001b[0m\u001b[37m\u001b[0m \u001b[1m11s\u001b[0m 28ms/step - accuracy: 0.9989 - loss: 0.0309 - val_accuracy: 1.0000 - val_loss: 0.0184 - learning_rate: 0.0010\n",
      "Epoch 15/30\n",
      "\u001b[1m400/400\u001b[0m \u001b[32m━━━━━━━━━━━━━━━━━━━━\u001b[0m\u001b[37m\u001b[0m \u001b[1m11s\u001b[0m 28ms/step - accuracy: 0.9999 - loss: 0.0282 - val_accuracy: 1.0000 - val_loss: 0.0176 - learning_rate: 0.0010\n",
      "Epoch 16/30\n",
      "\u001b[1m400/400\u001b[0m \u001b[32m━━━━━━━━━━━━━━━━━━━━\u001b[0m\u001b[37m\u001b[0m \u001b[1m11s\u001b[0m 29ms/step - accuracy: 0.9988 - loss: 0.0278 - val_accuracy: 1.0000 - val_loss: 0.0170 - learning_rate: 0.0010\n",
      "Epoch 17/30\n",
      "\u001b[1m400/400\u001b[0m \u001b[32m━━━━━━━━━━━━━━━━━━━━\u001b[0m\u001b[37m\u001b[0m \u001b[1m11s\u001b[0m 28ms/step - accuracy: 0.9991 - loss: 0.0276 - val_accuracy: 1.0000 - val_loss: 0.0166 - learning_rate: 0.0010\n",
      "Epoch 18/30\n",
      "\u001b[1m400/400\u001b[0m \u001b[32m━━━━━━━━━━━━━━━━━━━━\u001b[0m\u001b[37m\u001b[0m \u001b[1m11s\u001b[0m 28ms/step - accuracy: 0.9995 - loss: 0.0250 - val_accuracy: 1.0000 - val_loss: 0.0148 - learning_rate: 0.0010\n",
      "Epoch 19/30\n",
      "\u001b[1m400/400\u001b[0m \u001b[32m━━━━━━━━━━━━━━━━━━━━\u001b[0m\u001b[37m\u001b[0m \u001b[1m11s\u001b[0m 28ms/step - accuracy: 1.0000 - loss: 0.0237 - val_accuracy: 1.0000 - val_loss: 0.0147 - learning_rate: 0.0010\n",
      "Epoch 20/30\n",
      "\u001b[1m400/400\u001b[0m \u001b[32m━━━━━━━━━━━━━━━━━━━━\u001b[0m\u001b[37m\u001b[0m \u001b[1m11s\u001b[0m 28ms/step - accuracy: 1.0000 - loss: 0.0226 - val_accuracy: 1.0000 - val_loss: 0.0143 - learning_rate: 0.0010\n",
      "Epoch 21/30\n",
      "\u001b[1m400/400\u001b[0m \u001b[32m━━━━━━━━━━━━━━━━━━━━\u001b[0m\u001b[37m\u001b[0m \u001b[1m11s\u001b[0m 28ms/step - accuracy: 1.0000 - loss: 0.0208 - val_accuracy: 1.0000 - val_loss: 0.0133 - learning_rate: 0.0010\n",
      "Epoch 22/30\n",
      "\u001b[1m400/400\u001b[0m \u001b[32m━━━━━━━━━━━━━━━━━━━━\u001b[0m\u001b[37m\u001b[0m \u001b[1m11s\u001b[0m 28ms/step - accuracy: 0.9988 - loss: 0.0241 - val_accuracy: 1.0000 - val_loss: 0.0134 - learning_rate: 0.0010\n",
      "Epoch 23/30\n",
      "\u001b[1m400/400\u001b[0m \u001b[32m━━━━━━━━━━━━━━━━━━━━\u001b[0m\u001b[37m\u001b[0m \u001b[1m11s\u001b[0m 28ms/step - accuracy: 0.9996 - loss: 0.0208 - val_accuracy: 0.9994 - val_loss: 0.0160 - learning_rate: 0.0010\n",
      "Epoch 24/30\n",
      "\u001b[1m400/400\u001b[0m \u001b[32m━━━━━━━━━━━━━━━━━━━━\u001b[0m\u001b[37m\u001b[0m \u001b[1m11s\u001b[0m 28ms/step - accuracy: 0.9991 - loss: 0.0198 - val_accuracy: 1.0000 - val_loss: 0.0120 - learning_rate: 0.0010\n",
      "Epoch 25/30\n",
      "\u001b[1m400/400\u001b[0m \u001b[32m━━━━━━━━━━━━━━━━━━━━\u001b[0m\u001b[37m\u001b[0m \u001b[1m11s\u001b[0m 28ms/step - accuracy: 0.9996 - loss: 0.0195 - val_accuracy: 1.0000 - val_loss: 0.0124 - learning_rate: 0.0010\n",
      "Epoch 26/30\n",
      "\u001b[1m400/400\u001b[0m \u001b[32m━━━━━━━━━━━━━━━━━━━━\u001b[0m\u001b[37m\u001b[0m \u001b[1m12s\u001b[0m 29ms/step - accuracy: 0.9997 - loss: 0.0207 - val_accuracy: 1.0000 - val_loss: 0.0117 - learning_rate: 0.0010\n",
      "Epoch 27/30\n",
      "\u001b[1m400/400\u001b[0m \u001b[32m━━━━━━━━━━━━━━━━━━━━\u001b[0m\u001b[37m\u001b[0m \u001b[1m11s\u001b[0m 29ms/step - accuracy: 0.9991 - loss: 0.0243 - val_accuracy: 1.0000 - val_loss: 0.0116 - learning_rate: 0.0010\n",
      "Epoch 28/30\n",
      "\u001b[1m400/400\u001b[0m \u001b[32m━━━━━━━━━━━━━━━━━━━━\u001b[0m\u001b[37m\u001b[0m \u001b[1m11s\u001b[0m 28ms/step - accuracy: 0.9996 - loss: 0.0179 - val_accuracy: 1.0000 - val_loss: 0.0117 - learning_rate: 0.0010\n",
      "Epoch 29/30\n",
      "\u001b[1m400/400\u001b[0m \u001b[32m━━━━━━━━━━━━━━━━━━━━\u001b[0m\u001b[37m\u001b[0m \u001b[1m11s\u001b[0m 28ms/step - accuracy: 0.9985 - loss: 0.0196 - val_accuracy: 1.0000 - val_loss: 0.0113 - learning_rate: 0.0010\n",
      "Epoch 30/30\n",
      "\u001b[1m400/400\u001b[0m \u001b[32m━━━━━━━━━━━━━━━━━━━━\u001b[0m\u001b[37m\u001b[0m \u001b[1m11s\u001b[0m 28ms/step - accuracy: 0.9999 - loss: 0.0175 - val_accuracy: 1.0000 - val_loss: 0.0108 - learning_rate: 0.0010\n"
     ]
    },
    {
     "data": {
      "text/plain": [
       "<keras.src.callbacks.history.History at 0x700887070860>"
      ]
     },
     "execution_count": 10,
     "metadata": {},
     "output_type": "execute_result"
    }
   ],
   "source": [
    "model_gru = Sequential([\n",
    "    Embedding(input_dim=10000, output_dim=64, input_length=100),\n",
    "    GRU(32, dropout=0.3, recurrent_dropout=0.3),\n",
    "    BatchNormalization(),\n",
    "    Dense(16, activation=\"relu\", kernel_regularizer=l2(0.01)),\n",
    "    Dropout(0.5),\n",
    "    Dense(1, activation=\"sigmoid\", kernel_regularizer=l2(0.01))\n",
    "])\n",
    "\n",
    "# Compile\n",
    "optimizer = Adam(learning_rate=0.001)\n",
    "model_gru.compile(optimizer=optimizer, loss=\"binary_crossentropy\", metrics=[\"accuracy\"])\n",
    "\n",
    "# Train\n",
    "model_gru.fit(\n",
    "    X_train, y_train,\n",
    "    epochs=30,\n",
    "    batch_size=16,\n",
    "    validation_data=(X_val, y_val),\n",
    "    callbacks=[early_stopping, reduce_lr],\n",
    "    shuffle=True\n",
    ")"
   ]
  },
  {
   "cell_type": "markdown",
   "metadata": {},
   "source": [
    "# Correr Modelos"
   ]
  },
  {
   "cell_type": "markdown",
   "metadata": {},
   "source": [
    "**Test Set**"
   ]
  },
  {
   "cell_type": "code",
   "execution_count": 11,
   "metadata": {},
   "outputs": [
    {
     "name": "stdout",
     "output_type": "stream",
     "text": [
      "\u001b[1m63/63\u001b[0m \u001b[32m━━━━━━━━━━━━━━━━━━━━\u001b[0m\u001b[37m\u001b[0m \u001b[1m1s\u001b[0m 13ms/step\n"
     ]
    }
   ],
   "source": [
    "test_ids = df.loc[test_indices, \"ID\"]  # Get IDs for test split only\n",
    "predict_and_save(model_gru, X_test, test_ids, \"gru\")"
   ]
  },
  {
   "cell_type": "markdown",
   "metadata": {},
   "source": [
    "**Avaliação**"
   ]
  },
  {
   "cell_type": "code",
   "execution_count": 12,
   "metadata": {},
   "outputs": [
    {
     "name": "stdout",
     "output_type": "stream",
     "text": [
      "\u001b[1m4/4\u001b[0m \u001b[32m━━━━━━━━━━━━━━━━━━━━\u001b[0m\u001b[37m\u001b[0m \u001b[1m0s\u001b[0m 12ms/step\n"
     ]
    }
   ],
   "source": [
    "predict_and_save(model_gru, X_professor, data_set_professor[\"ID\"], \"gru_professor\")"
   ]
  },
  {
   "cell_type": "markdown",
   "metadata": {},
   "source": [
    "## Classification Reports"
   ]
  },
  {
   "cell_type": "code",
   "execution_count": 13,
   "metadata": {},
   "outputs": [
    {
     "name": "stdout",
     "output_type": "stream",
     "text": [
      "\u001b[1m63/63\u001b[0m \u001b[32m━━━━━━━━━━━━━━━━━━━━\u001b[0m\u001b[37m\u001b[0m \u001b[1m1s\u001b[0m 8ms/step\n",
      "              precision    recall  f1-score   support\n",
      "\n",
      "         0.0       1.00      1.00      1.00      1000\n",
      "         1.0       1.00      1.00      1.00      1000\n",
      "\n",
      "    accuracy                           1.00      2000\n",
      "   macro avg       1.00      1.00      1.00      2000\n",
      "weighted avg       1.00      1.00      1.00      2000\n",
      "\n"
     ]
    }
   ],
   "source": [
    "print(classification_report(y_test, model_gru.predict(X_test) > 0.5))"
   ]
  }
 ],
 "metadata": {
  "kernelspec": {
   "display_name": "base",
   "language": "python",
   "name": "python3"
  },
  "language_info": {
   "codemirror_mode": {
    "name": "ipython",
    "version": 3
   },
   "file_extension": ".py",
   "mimetype": "text/x-python",
   "name": "python",
   "nbconvert_exporter": "python",
   "pygments_lexer": "ipython3",
   "version": "3.12.9"
  }
 },
 "nbformat": 4,
 "nbformat_minor": 2
}
