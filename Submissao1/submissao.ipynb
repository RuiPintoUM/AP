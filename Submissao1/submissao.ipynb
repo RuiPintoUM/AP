{
 "cells": [
  {
   "cell_type": "code",
   "execution_count": 1,
   "metadata": {},
   "outputs": [
    {
     "ename": "ImportError",
     "evalue": "cannot import name 'RecurrentLayer' from 'layers' (/home/pexo/Desktop/mestrado/2sem/AP/AP/DNN/layers.py)",
     "output_type": "error",
     "traceback": [
      "\u001b[31m---------------------------------------------------------------------------\u001b[39m",
      "\u001b[31mImportError\u001b[39m                               Traceback (most recent call last)",
      "\u001b[36mCell\u001b[39m\u001b[36m \u001b[39m\u001b[32mIn[1]\u001b[39m\u001b[32m, line 12\u001b[39m\n\u001b[32m     10\u001b[39m \u001b[38;5;28;01mimport\u001b[39;00m\u001b[38;5;250m \u001b[39m\u001b[34;01mpickle\u001b[39;00m\n\u001b[32m     11\u001b[39m \u001b[38;5;28;01mfrom\u001b[39;00m\u001b[38;5;250m \u001b[39m\u001b[34;01msklearn\u001b[39;00m\u001b[34;01m.\u001b[39;00m\u001b[34;01mfeature_extraction\u001b[39;00m\u001b[34;01m.\u001b[39;00m\u001b[34;01mtext\u001b[39;00m\u001b[38;5;250m \u001b[39m\u001b[38;5;28;01mimport\u001b[39;00m TfidfVectorizer\n\u001b[32m---> \u001b[39m\u001b[32m12\u001b[39m \u001b[38;5;28;01mfrom\u001b[39;00m\u001b[38;5;250m \u001b[39m\u001b[34;01mrnn\u001b[39;00m\u001b[38;5;250m \u001b[39m\u001b[38;5;28;01mimport\u001b[39;00m RecurrentNeuralNetwork  \u001b[38;5;66;03m# DNN model\u001b[39;00m\n\u001b[32m     13\u001b[39m \u001b[38;5;28;01mfrom\u001b[39;00m\u001b[38;5;250m \u001b[39m\u001b[34;01mdata_v2\u001b[39;00m\u001b[38;5;250m \u001b[39m\u001b[38;5;28;01mimport\u001b[39;00m read_csv  \u001b[38;5;66;03m# Assuming your 'read_csv' function is defined in the 'data_v2' module\u001b[39;00m\n\u001b[32m     15\u001b[39m \u001b[38;5;66;03m# Load the dataset with proper handling of column delimiters\u001b[39;00m\n",
      "\u001b[36mFile \u001b[39m\u001b[32m~/Desktop/mestrado/2sem/AP/AP/RNN/rnn.py:3\u001b[39m\n\u001b[32m      1\u001b[39m \u001b[38;5;28;01mimport\u001b[39;00m\u001b[38;5;250m \u001b[39m\u001b[34;01mnumpy\u001b[39;00m\u001b[38;5;250m \u001b[39m\u001b[38;5;28;01mas\u001b[39;00m\u001b[38;5;250m \u001b[39m\u001b[34;01mnp\u001b[39;00m\n\u001b[32m      2\u001b[39m \u001b[38;5;28;01mimport\u001b[39;00m\u001b[38;5;250m \u001b[39m\u001b[34;01mpandas\u001b[39;00m\u001b[38;5;250m \u001b[39m\u001b[38;5;28;01mas\u001b[39;00m\u001b[38;5;250m \u001b[39m\u001b[34;01mpd\u001b[39;00m\n\u001b[32m----> \u001b[39m\u001b[32m3\u001b[39m \u001b[38;5;28;01mfrom\u001b[39;00m\u001b[38;5;250m \u001b[39m\u001b[34;01mlayers\u001b[39;00m\u001b[38;5;250m \u001b[39m\u001b[38;5;28;01mimport\u001b[39;00m RecurrentLayer, DenseLayer, DropoutLayer  \u001b[38;5;66;03m# Update import\u001b[39;00m\n\u001b[32m      4\u001b[39m \u001b[38;5;28;01mfrom\u001b[39;00m\u001b[38;5;250m \u001b[39m\u001b[34;01mactivation\u001b[39;00m\u001b[38;5;250m \u001b[39m\u001b[38;5;28;01mimport\u001b[39;00m SigmoidActivation, ReLUActivation\n\u001b[32m      5\u001b[39m \u001b[38;5;28;01mfrom\u001b[39;00m\u001b[38;5;250m \u001b[39m\u001b[34;01mmetrics\u001b[39;00m\u001b[38;5;250m \u001b[39m\u001b[38;5;28;01mimport\u001b[39;00m accuracy\n",
      "\u001b[31mImportError\u001b[39m: cannot import name 'RecurrentLayer' from 'layers' (/home/pexo/Desktop/mestrado/2sem/AP/AP/DNN/layers.py)"
     ]
    }
   ],
   "source": [
    "import sys\n",
    "import os\n",
    "\n",
    "# Explicitly adding the paths to sys.path\n",
    "sys.path.append(os.path.abspath(os.path.join('..', 'DNN')))  # DNN directory\n",
    "sys.path.append(os.path.abspath(os.path.join('..', 'RNN')))  # RNN directory\n",
    "\n",
    "# Now attempt to import the modules\n",
    "import pandas as pd\n",
    "import pickle\n",
    "from sklearn.feature_extraction.text import TfidfVectorizer\n",
    "from rnn import RecurrentNeuralNetwork  # DNN model\n",
    "from data_v2 import read_csv  # Assuming your 'read_csv' function is defined in the 'data_v2' module\n",
    "\n",
    "# Load the dataset with proper handling of column delimiters\n",
    "def load_and_process_dataset(file_path):\n",
    "    dataset, vectorizer = read_csv(file_path, sep=';', text_column='Text', label_column=None)\n",
    "    return dataset, vectorizer\n",
    "\n",
    "# Load the trained models\n",
    "def load_model(model_path):\n",
    "    with open(model_path, 'rb') as file:\n",
    "        model_data = pickle.load(file)\n",
    "    return model_data\n",
    "\n",
    "# Function to predict using RNN model\n",
    "def predict_with_rnn(rnn_model, dataset):\n",
    "    return rnn_model.predict(dataset)\n",
    "\n",
    "# Function to predict using DNN model\n",
    "def predict_with_dnn(dnn_model, dataset):\n",
    "    return dnn_model.predict(dataset)\n",
    "\n",
    "# Main function\n",
    "def main():\n",
    "    # Load the dataset\n",
    "    dataset_file = '../datasets/dataset2_inputs.csv'  # Path to the dataset (adjusted relative to notebook)\n",
    "    dataset, vectorizer = load_and_process_dataset(dataset_file)\n",
    "    \n",
    "    # Load the models\n",
    "    rnn_model = RecurrentNeuralNetwork()  # Initialize an empty RNN model\n",
    "    rnn_model.load('models/rnn.pkl')  # Load the pre-trained RNN model (adjusted relative to notebook)\n",
    "\n",
    "    dnn_model = Neuralrnnwork()  # Initialize an empty DNN model\n",
    "    dnn_model.load('models/dnn.pkl')  # Load the pre-trained DNN model (adjusted relative to notebook)\n",
    "    \n",
    "    # Make predictions using the RNN model\n",
    "    rnn_predictions = predict_with_rnn(rnn_model, dataset)\n",
    "    \n",
    "    # Make predictions using the DNN model\n",
    "    dnn_predictions = predict_with_dnn(dnn_model, dataset)\n",
    "    \n",
    "    # Output the results\n",
    "    print(f\"RNN Predictions: {rnn_predictions}\")\n",
    "    print(f\"DNN Predictions: {dnn_predictions}\")\n",
    "\n",
    "if __name__ == \"__main__\":\n",
    "    main()"
   ]
  }
 ],
 "metadata": {
  "kernelspec": {
   "display_name": "ve",
   "language": "python",
   "name": "python3"
  },
  "language_info": {
   "codemirror_mode": {
    "name": "ipython",
    "version": 3
   },
   "file_extension": ".py",
   "mimetype": "text/x-python",
   "name": "python",
   "nbconvert_exporter": "python",
   "pygments_lexer": "ipython3",
   "version": "3.12.9"
  }
 },
 "nbformat": 4,
 "nbformat_minor": 2
}
