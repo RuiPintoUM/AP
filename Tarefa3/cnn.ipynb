{
 "cells": [
  {
   "cell_type": "markdown",
   "metadata": {},
   "source": [
    "# Aprendizem Profunda - DNN\n",
    "### Tarefa III\n",
    "1. Rúben Gonçalo Araújo da Silva pg57900   \n",
    "2. José Luis Fraga Costa pg55970\n",
    "3. Pedro Miguel Costa Azevedo pg57897\n",
    "4. Rui Pedro Fernandes Madeira Pinto pg56010"
   ]
  },
  {
   "cell_type": "markdown",
   "metadata": {},
   "source": [
    "# Implementação"
   ]
  },
  {
   "cell_type": "markdown",
   "metadata": {},
   "source": [
    "### imports\n",
    "\n",
    "1. pandas\n",
    "2. tensorflow\n",
    "3. sklearn"
   ]
  },
  {
   "cell_type": "code",
   "execution_count": 2,
   "metadata": {},
   "outputs": [
    {
     "name": "stderr",
     "output_type": "stream",
     "text": [
      "2025-03-28 02:42:41.644589: I tensorflow/core/util/port.cc:113] oneDNN custom operations are on. You may see slightly different numerical results due to floating-point round-off errors from different computation orders. To turn them off, set the environment variable `TF_ENABLE_ONEDNN_OPTS=0`.\n",
      "2025-03-28 02:42:41.781568: I tensorflow/core/platform/cpu_feature_guard.cc:210] This TensorFlow binary is optimized to use available CPU instructions in performance-critical operations.\n",
      "To enable the following instructions: AVX2 AVX512F AVX512_VNNI FMA, in other operations, rebuild TensorFlow with the appropriate compiler flags.\n",
      "2025-03-28 02:42:43.167117: W tensorflow/compiler/tf2tensorrt/utils/py_utils.cc:38] TF-TRT Warning: Could not find TensorRT\n",
      "/home/rui/miniconda3/lib/python3.12/site-packages/tqdm/auto.py:21: TqdmWarning: IProgress not found. Please update jupyter and ipywidgets. See https://ipywidgets.readthedocs.io/en/stable/user_install.html\n",
      "  from .autonotebook import tqdm as notebook_tqdm\n"
     ]
    }
   ],
   "source": [
    "# Standard Library\n",
    "import os\n",
    "import csv\n",
    "\n",
    "# Data Handling\n",
    "import pandas as pd\n",
    "import numpy as np\n",
    "\n",
    "\n",
    "# Scikit-learn\n",
    "from sklearn.model_selection import train_test_split\n",
    "from sklearn.metrics import classification_report\n",
    "from sklearn.metrics import accuracy_score, classification_report\n",
    "\n",
    "# TensorFlow / Keras\n",
    "import tensorflow as tf\n",
    "from tensorflow.keras.models import Sequential\n",
    "from tensorflow.keras.layers import (\n",
    "    Embedding, Flatten, Dense, Dropout, SimpleRNN, GRU, LSTM, \n",
    "    Bidirectional, GlobalMaxPooling1D, GlobalAveragePooling1D, \n",
    "    BatchNormalization, Conv1D, MaxPooling1D\n",
    ")\n",
    "from tensorflow.keras.preprocessing.text import Tokenizer\n",
    "from tensorflow.keras.preprocessing.sequence import pad_sequences\n",
    "from tensorflow.keras.regularizers import l2\n",
    "from tensorflow.keras.callbacks import EarlyStopping, ReduceLROnPlateau\n",
    "from tensorflow.keras.optimizers import Adam\n",
    "\n",
    "# Hugging Face Transformers\n",
    "from transformers import (\n",
    "    AutoTokenizer, \n",
    "    TFAutoModelForSequenceClassification, \n",
    "    pipeline\n",
    ")\n"
   ]
  },
  {
   "cell_type": "markdown",
   "metadata": {},
   "source": [
    "### Input dos dados"
   ]
  },
  {
   "cell_type": "code",
   "execution_count": 3,
   "metadata": {},
   "outputs": [
    {
     "name": "stdout",
     "output_type": "stream",
     "text": [
      "Label\n",
      "Human    2100\n",
      "AI       1953\n",
      "Name: count, dtype: int64\n",
      "Duplicados: 2\n",
      "     ID                                               Text  Label\n",
      "0  D1-1  Advanced electromagnetic potentials are indige...  Human\n",
      "1  D1-2  This research paper investigates the question ...     AI\n",
      "2  D1-3  We give an algorithm for finding network encod...  Human\n",
      "3  D1-4  The paper presents an efficient centralized bi...     AI\n",
      "4  D1-5  We introduce an exponential random graph model...  Human\n"
     ]
    }
   ],
   "source": [
    "df = pd.read_csv(\"data/fixed_dataset_final.csv\")\n",
    "\n",
    "df = df.dropna(subset=[\"Label\"])\n",
    "df[\"Text\"] = df[\"Text\"].fillna(\"\")\n",
    "all_ids = df[\"ID\"].fillna(\"\")\n",
    "test_ids = df[\"ID\"].fillna(\"\")\n",
    "\n",
    "# Checar balanceamento das classes\n",
    "print(df['Label'].value_counts())\n",
    "\n",
    "# Verificar duplicados\n",
    "print(\"Duplicados:\", df.duplicated(subset='Text').sum())\n",
    "\n",
    "# Exibir amostra dos dados\n",
    "print(df.head())\n",
    "\n"
   ]
  },
  {
   "cell_type": "markdown",
   "metadata": {},
   "source": [
    "### Função pra gravar em csv"
   ]
  },
  {
   "cell_type": "code",
   "execution_count": 4,
   "metadata": {},
   "outputs": [],
   "source": [
    "def to_csv(results_df, name):\n",
    "    os.makedirs(\"score\", exist_ok=True)\n",
    "    path = f\"score/{name}.csv\"\n",
    "    filtered_df = results_df[results_df[\"ID\"].notna() & (results_df[\"ID\"] != \"\")].copy()\n",
    "    filtered_df['prefix'] = filtered_df['ID'].str.extract(r'(D[0-9])')\n",
    "    filtered_df['number'] = filtered_df['ID'].str.extract(r'-(\\d+)').astype(int)\n",
    "    filtered_df = filtered_df.sort_values(by=['prefix', 'number'])\n",
    "\n",
    "    with open(path, 'w') as f:\n",
    "        f.write(\"ID\\tLabel\\n\") \n",
    "        for index, row in filtered_df.iterrows():\n",
    "            f.write(f\"{row['ID']}\\t{row['Label']}\\n\") "
   ]
  },
  {
   "cell_type": "code",
   "execution_count": 5,
   "metadata": {},
   "outputs": [],
   "source": [
    "def predict_and_save(model, X_data, ids, model_name):\n",
    "    # Generate predictions\n",
    "    y_pred = (model.predict(X_data) > 0.5).astype(int).flatten()\n",
    "\n",
    "    # Convert numeric predictions to labels\n",
    "    labels = [\"Human\" if label == 0 else \"AI\" for label in y_pred]\n",
    "    # Create results DataFrame\n",
    "    results_df = pd.DataFrame({\n",
    "        \"ID\": ids,\n",
    "        \"Label\": labels\n",
    "    })\n",
    "    to_csv(results_df, model_name)"
   ]
  },
  {
   "cell_type": "markdown",
   "metadata": {},
   "source": [
    "### Train Test Split (divisão de dados)"
   ]
  },
  {
   "cell_type": "code",
   "execution_count": 6,
   "metadata": {},
   "outputs": [
    {
     "name": "stdout",
     "output_type": "stream",
     "text": [
      "Original dataset size: 4053, Unique texts: 4051\n",
      "Overlap between train and test after deduplication: 0\n"
     ]
    }
   ],
   "source": [
    "# Remove duplicates by keeping the first occurrence\n",
    "df_unique = df.drop_duplicates(subset=[\"Text\"], keep=\"first\")\n",
    "\n",
    "# Check how many rows remain\n",
    "print(f\"Original dataset size: {len(df)}, Unique texts: {len(df_unique)}\")\n",
    "\n",
    "# Split the deduplicated dataset\n",
    "train_texts, test_texts, train_labels, test_labels = train_test_split(\n",
    "    df_unique[\"Text\"], df_unique[\"Label\"], test_size=0.2, random_state=42, stratify=df_unique[\"Label\"]\n",
    ")\n",
    "test_indices = test_texts.index\n",
    "\n",
    "train_texts, val_texts, train_labels, val_labels = train_test_split(\n",
    "    train_texts, train_labels, test_size=0.2, random_state=42, stratify=train_labels\n",
    ")\n",
    "\n",
    "# Verify no overlap\n",
    "print(f\"Overlap between train and test after deduplication: {len(set(train_texts) & set(test_texts))}\")\n"
   ]
  },
  {
   "cell_type": "markdown",
   "metadata": {},
   "source": [
    "### Tokenizer"
   ]
  },
  {
   "cell_type": "code",
   "execution_count": 7,
   "metadata": {},
   "outputs": [],
   "source": [
    "# Tokenize the data\n",
    "tokenizer = Tokenizer(num_words=10000)\n",
    "tokenizer.fit_on_texts(train_texts)\n",
    "\n",
    "X_train_seq = tokenizer.texts_to_sequences(train_texts)\n",
    "X_val_seq = tokenizer.texts_to_sequences(val_texts)\n",
    "X_test_seq = tokenizer.texts_to_sequences(test_texts)\n",
    "\n",
    "X_train = pad_sequences(X_train_seq, maxlen=200)\n",
    "X_val = pad_sequences(X_val_seq, maxlen=200)\n",
    "X_test = pad_sequences(X_test_seq, maxlen=200)\n",
    "\n",
    "# Convert string labels to numeric values\n",
    "label_map = {\"Human\": 0, \"AI\": 1}  # Define mapping\n",
    "y_train = np.array([label_map[label] for label in train_labels], dtype=np.float32)\n",
    "y_val = np.array([label_map[label] for label in val_labels], dtype=np.float32)\n",
    "y_test = np.array([label_map[label] for label in test_labels], dtype=np.float32)"
   ]
  },
  {
   "cell_type": "markdown",
   "metadata": {},
   "source": [
    "## Dataset de Avaliação"
   ]
  },
  {
   "cell_type": "code",
   "execution_count": 8,
   "metadata": {},
   "outputs": [],
   "source": [
    "data_set_professor = pd.read_csv(\"data/dataset1_inputs.csv\", sep='\\t', on_bad_lines='skip')\n",
    "data_set_professor[\"Text\"] = data_set_professor[\"Text\"].fillna(\"\")\n",
    "X_professor_seq = tokenizer.texts_to_sequences(data_set_professor[\"Text\"])\n",
    "X_professor = pad_sequences(X_professor_seq, maxlen=100)  "
   ]
  },
  {
   "cell_type": "markdown",
   "metadata": {},
   "source": [
    "### Early Stopping"
   ]
  },
  {
   "cell_type": "code",
   "execution_count": 9,
   "metadata": {},
   "outputs": [],
   "source": [
    "early_stopping = EarlyStopping(\n",
    "    monitor='val_loss',     \n",
    "    patience=5,            \n",
    "    restore_best_weights=True,           \n",
    ")"
   ]
  },
  {
   "cell_type": "markdown",
   "metadata": {},
   "source": [
    "### Reduce_lr"
   ]
  },
  {
   "cell_type": "code",
   "execution_count": 10,
   "metadata": {},
   "outputs": [],
   "source": [
    "reduce_lr = ReduceLROnPlateau(\n",
    "    monitor='val_loss',\n",
    "    factor=0.5, \n",
    "    patience=3,\n",
    "    min_lr=0.00005\n",
    ")"
   ]
  },
  {
   "cell_type": "markdown",
   "metadata": {},
   "source": [
    "## CNN"
   ]
  },
  {
   "cell_type": "code",
   "execution_count": 11,
   "metadata": {},
   "outputs": [
    {
     "name": "stdout",
     "output_type": "stream",
     "text": [
      "Epoch 1/30\n"
     ]
    },
    {
     "name": "stderr",
     "output_type": "stream",
     "text": [
      "/home/rui/miniconda3/lib/python3.12/site-packages/keras/src/layers/core/embedding.py:90: UserWarning: Argument `input_length` is deprecated. Just remove it.\n",
      "  warnings.warn(\n"
     ]
    },
    {
     "name": "stdout",
     "output_type": "stream",
     "text": [
      "\u001b[1m41/41\u001b[0m \u001b[32m━━━━━━━━━━━━━━━━━━━━\u001b[0m\u001b[37m\u001b[0m \u001b[1m7s\u001b[0m 69ms/step - accuracy: 0.5162 - loss: 2.6903 - val_accuracy: 0.5386 - val_loss: 1.3721 - learning_rate: 8.0000e-04\n",
      "Epoch 2/30\n",
      "\u001b[1m41/41\u001b[0m \u001b[32m━━━━━━━━━━━━━━━━━━━━\u001b[0m\u001b[37m\u001b[0m \u001b[1m3s\u001b[0m 64ms/step - accuracy: 0.5616 - loss: 1.7720 - val_accuracy: 0.5185 - val_loss: 1.3313 - learning_rate: 8.0000e-04\n",
      "Epoch 3/30\n",
      "\u001b[1m41/41\u001b[0m \u001b[32m━━━━━━━━━━━━━━━━━━━━\u001b[0m\u001b[37m\u001b[0m \u001b[1m2s\u001b[0m 58ms/step - accuracy: 0.7174 - loss: 1.2718 - val_accuracy: 0.8287 - val_loss: 1.2484 - learning_rate: 8.0000e-04\n",
      "Epoch 4/30\n",
      "\u001b[1m41/41\u001b[0m \u001b[32m━━━━━━━━━━━━━━━━━━━━\u001b[0m\u001b[37m\u001b[0m \u001b[1m2s\u001b[0m 54ms/step - accuracy: 0.8484 - loss: 1.0056 - val_accuracy: 0.9275 - val_loss: 1.1635 - learning_rate: 8.0000e-04\n",
      "Epoch 5/30\n",
      "\u001b[1m41/41\u001b[0m \u001b[32m━━━━━━━━━━━━━━━━━━━━\u001b[0m\u001b[37m\u001b[0m \u001b[1m2s\u001b[0m 50ms/step - accuracy: 0.9101 - loss: 0.8463 - val_accuracy: 0.9306 - val_loss: 1.0819 - learning_rate: 8.0000e-04\n",
      "Epoch 6/30\n",
      "\u001b[1m41/41\u001b[0m \u001b[32m━━━━━━━━━━━━━━━━━━━━\u001b[0m\u001b[37m\u001b[0m \u001b[1m2s\u001b[0m 41ms/step - accuracy: 0.9384 - loss: 0.7702 - val_accuracy: 0.9367 - val_loss: 1.0121 - learning_rate: 8.0000e-04\n",
      "Epoch 7/30\n",
      "\u001b[1m41/41\u001b[0m \u001b[32m━━━━━━━━━━━━━━━━━━━━\u001b[0m\u001b[37m\u001b[0m \u001b[1m2s\u001b[0m 53ms/step - accuracy: 0.9480 - loss: 0.7185 - val_accuracy: 0.9614 - val_loss: 0.9278 - learning_rate: 8.0000e-04\n",
      "Epoch 8/30\n",
      "\u001b[1m41/41\u001b[0m \u001b[32m━━━━━━━━━━━━━━━━━━━━\u001b[0m\u001b[37m\u001b[0m \u001b[1m2s\u001b[0m 40ms/step - accuracy: 0.9618 - loss: 0.6586 - val_accuracy: 0.9645 - val_loss: 0.8638 - learning_rate: 8.0000e-04\n",
      "Epoch 9/30\n",
      "\u001b[1m41/41\u001b[0m \u001b[32m━━━━━━━━━━━━━━━━━━━━\u001b[0m\u001b[37m\u001b[0m \u001b[1m2s\u001b[0m 38ms/step - accuracy: 0.9702 - loss: 0.5990 - val_accuracy: 0.9707 - val_loss: 0.7940 - learning_rate: 8.0000e-04\n",
      "Epoch 10/30\n",
      "\u001b[1m41/41\u001b[0m \u001b[32m━━━━━━━━━━━━━━━━━━━━\u001b[0m\u001b[37m\u001b[0m \u001b[1m2s\u001b[0m 55ms/step - accuracy: 0.9749 - loss: 0.5731 - val_accuracy: 0.9769 - val_loss: 0.7131 - learning_rate: 8.0000e-04\n",
      "Epoch 11/30\n",
      "\u001b[1m41/41\u001b[0m \u001b[32m━━━━━━━━━━━━━━━━━━━━\u001b[0m\u001b[37m\u001b[0m \u001b[1m3s\u001b[0m 68ms/step - accuracy: 0.9900 - loss: 0.5076 - val_accuracy: 0.9769 - val_loss: 0.6401 - learning_rate: 8.0000e-04\n",
      "Epoch 12/30\n",
      "\u001b[1m41/41\u001b[0m \u001b[32m━━━━━━━━━━━━━━━━━━━━\u001b[0m\u001b[37m\u001b[0m \u001b[1m2s\u001b[0m 53ms/step - accuracy: 0.9909 - loss: 0.4788 - val_accuracy: 0.9815 - val_loss: 0.5752 - learning_rate: 8.0000e-04\n",
      "Epoch 13/30\n",
      "\u001b[1m41/41\u001b[0m \u001b[32m━━━━━━━━━━━━━━━━━━━━\u001b[0m\u001b[37m\u001b[0m \u001b[1m2s\u001b[0m 50ms/step - accuracy: 0.9903 - loss: 0.4515 - val_accuracy: 0.9877 - val_loss: 0.5058 - learning_rate: 8.0000e-04\n",
      "Epoch 14/30\n",
      "\u001b[1m41/41\u001b[0m \u001b[32m━━━━━━━━━━━━━━━━━━━━\u001b[0m\u001b[37m\u001b[0m \u001b[1m2s\u001b[0m 46ms/step - accuracy: 0.9930 - loss: 0.4117 - val_accuracy: 0.9907 - val_loss: 0.4524 - learning_rate: 8.0000e-04\n",
      "Epoch 15/30\n",
      "\u001b[1m41/41\u001b[0m \u001b[32m━━━━━━━━━━━━━━━━━━━━\u001b[0m\u001b[37m\u001b[0m \u001b[1m2s\u001b[0m 49ms/step - accuracy: 0.9958 - loss: 0.3842 - val_accuracy: 0.9907 - val_loss: 0.4105 - learning_rate: 8.0000e-04\n",
      "Epoch 16/30\n",
      "\u001b[1m41/41\u001b[0m \u001b[32m━━━━━━━━━━━━━━━━━━━━\u001b[0m\u001b[37m\u001b[0m \u001b[1m2s\u001b[0m 55ms/step - accuracy: 0.9964 - loss: 0.3714 - val_accuracy: 0.9877 - val_loss: 0.3808 - learning_rate: 8.0000e-04\n",
      "Epoch 17/30\n",
      "\u001b[1m41/41\u001b[0m \u001b[32m━━━━━━━━━━━━━━━━━━━━\u001b[0m\u001b[37m\u001b[0m \u001b[1m2s\u001b[0m 48ms/step - accuracy: 0.9976 - loss: 0.3326 - val_accuracy: 0.9877 - val_loss: 0.3514 - learning_rate: 8.0000e-04\n",
      "Epoch 18/30\n",
      "\u001b[1m41/41\u001b[0m \u001b[32m━━━━━━━━━━━━━━━━━━━━\u001b[0m\u001b[37m\u001b[0m \u001b[1m2s\u001b[0m 50ms/step - accuracy: 0.9985 - loss: 0.3092 - val_accuracy: 0.9861 - val_loss: 0.3244 - learning_rate: 8.0000e-04\n",
      "Epoch 19/30\n",
      "\u001b[1m41/41\u001b[0m \u001b[32m━━━━━━━━━━━━━━━━━━━━\u001b[0m\u001b[37m\u001b[0m \u001b[1m2s\u001b[0m 43ms/step - accuracy: 0.9977 - loss: 0.2916 - val_accuracy: 0.9877 - val_loss: 0.3055 - learning_rate: 8.0000e-04\n",
      "Epoch 20/30\n",
      "\u001b[1m41/41\u001b[0m \u001b[32m━━━━━━━━━━━━━━━━━━━━\u001b[0m\u001b[37m\u001b[0m \u001b[1m2s\u001b[0m 45ms/step - accuracy: 0.9966 - loss: 0.2724 - val_accuracy: 0.9861 - val_loss: 0.2883 - learning_rate: 8.0000e-04\n",
      "Epoch 21/30\n",
      "\u001b[1m41/41\u001b[0m \u001b[32m━━━━━━━━━━━━━━━━━━━━\u001b[0m\u001b[37m\u001b[0m \u001b[1m2s\u001b[0m 46ms/step - accuracy: 0.9961 - loss: 0.2559 - val_accuracy: 0.9892 - val_loss: 0.2668 - learning_rate: 8.0000e-04\n",
      "Epoch 22/30\n",
      "\u001b[1m41/41\u001b[0m \u001b[32m━━━━━━━━━━━━━━━━━━━━\u001b[0m\u001b[37m\u001b[0m \u001b[1m2s\u001b[0m 57ms/step - accuracy: 0.9983 - loss: 0.2346 - val_accuracy: 0.9877 - val_loss: 0.2504 - learning_rate: 8.0000e-04\n",
      "Epoch 23/30\n",
      "\u001b[1m41/41\u001b[0m \u001b[32m━━━━━━━━━━━━━━━━━━━━\u001b[0m\u001b[37m\u001b[0m \u001b[1m2s\u001b[0m 47ms/step - accuracy: 0.9994 - loss: 0.2163 - val_accuracy: 0.9861 - val_loss: 0.2400 - learning_rate: 8.0000e-04\n",
      "Epoch 24/30\n",
      "\u001b[1m41/41\u001b[0m \u001b[32m━━━━━━━━━━━━━━━━━━━━\u001b[0m\u001b[37m\u001b[0m \u001b[1m2s\u001b[0m 52ms/step - accuracy: 0.9984 - loss: 0.2012 - val_accuracy: 0.9846 - val_loss: 0.2313 - learning_rate: 8.0000e-04\n",
      "Epoch 25/30\n",
      "\u001b[1m41/41\u001b[0m \u001b[32m━━━━━━━━━━━━━━━━━━━━\u001b[0m\u001b[37m\u001b[0m \u001b[1m2s\u001b[0m 51ms/step - accuracy: 0.9992 - loss: 0.1865 - val_accuracy: 0.9846 - val_loss: 0.2168 - learning_rate: 8.0000e-04\n",
      "Epoch 26/30\n",
      "\u001b[1m41/41\u001b[0m \u001b[32m━━━━━━━━━━━━━━━━━━━━\u001b[0m\u001b[37m\u001b[0m \u001b[1m2s\u001b[0m 46ms/step - accuracy: 0.9984 - loss: 0.1735 - val_accuracy: 0.9877 - val_loss: 0.2050 - learning_rate: 8.0000e-04\n",
      "Epoch 27/30\n",
      "\u001b[1m41/41\u001b[0m \u001b[32m━━━━━━━━━━━━━━━━━━━━\u001b[0m\u001b[37m\u001b[0m \u001b[1m2s\u001b[0m 49ms/step - accuracy: 0.9992 - loss: 0.1599 - val_accuracy: 0.9877 - val_loss: 0.1966 - learning_rate: 8.0000e-04\n",
      "Epoch 28/30\n",
      "\u001b[1m41/41\u001b[0m \u001b[32m━━━━━━━━━━━━━━━━━━━━\u001b[0m\u001b[37m\u001b[0m \u001b[1m2s\u001b[0m 51ms/step - accuracy: 1.0000 - loss: 0.1467 - val_accuracy: 0.9877 - val_loss: 0.1859 - learning_rate: 8.0000e-04\n",
      "Epoch 29/30\n",
      "\u001b[1m41/41\u001b[0m \u001b[32m━━━━━━━━━━━━━━━━━━━━\u001b[0m\u001b[37m\u001b[0m \u001b[1m2s\u001b[0m 51ms/step - accuracy: 0.9972 - loss: 0.1418 - val_accuracy: 0.9799 - val_loss: 0.1787 - learning_rate: 8.0000e-04\n",
      "Epoch 30/30\n",
      "\u001b[1m41/41\u001b[0m \u001b[32m━━━━━━━━━━━━━━━━━━━━\u001b[0m\u001b[37m\u001b[0m \u001b[1m3s\u001b[0m 52ms/step - accuracy: 0.9976 - loss: 0.1319 - val_accuracy: 0.9861 - val_loss: 0.1665 - learning_rate: 8.0000e-04\n"
     ]
    }
   ],
   "source": [
    "# Modelo CNN mais robusto contra overfitting\n",
    "model = Sequential([\n",
    "    Embedding(input_dim=10000, output_dim=64, input_length=200),\n",
    "\n",
    "    Conv1D(filters=64, kernel_size=5, activation='relu', kernel_regularizer=l2(0.005)),\n",
    "    BatchNormalization(),\n",
    "    MaxPooling1D(pool_size=2),\n",
    "    Dropout(0.4),\n",
    "\n",
    "    Conv1D(filters=32, kernel_size=3, activation='relu', kernel_regularizer=l2(0.005)),\n",
    "    BatchNormalization(),\n",
    "    GlobalMaxPooling1D(),\n",
    "    Dropout(0.4),\n",
    "\n",
    "    Dense(32, activation='relu', kernel_regularizer=l2(0.005)),\n",
    "    Dropout(0.4),\n",
    "\n",
    "    Dense(1, activation='sigmoid')\n",
    "])\n",
    "\n",
    "# Compile com uma taxa de aprendizagem inicial moderada\n",
    "model.compile(optimizer=Adam(learning_rate=0.0008), \n",
    "              loss='binary_crossentropy', \n",
    "              metrics=['accuracy'])\n",
    "\n",
    "# Treine usando EarlyStopping e ReduceLROnPlateau já definidos por você\n",
    "history = model.fit(\n",
    "    X_train, y_train,\n",
    "    epochs=30,\n",
    "    batch_size=64,\n",
    "    validation_data=(X_val, y_val),\n",
    "    callbacks=[early_stopping, reduce_lr]\n",
    ")"
   ]
  },
  {
   "cell_type": "markdown",
   "metadata": {},
   "source": [
    "## Simple RNN"
   ]
  },
  {
   "cell_type": "markdown",
   "metadata": {},
   "source": [
    "# Correr Modelos"
   ]
  },
  {
   "cell_type": "markdown",
   "metadata": {},
   "source": [
    "**Test Set**"
   ]
  },
  {
   "cell_type": "code",
   "execution_count": 12,
   "metadata": {},
   "outputs": [
    {
     "name": "stdout",
     "output_type": "stream",
     "text": [
      "\u001b[1m26/26\u001b[0m \u001b[32m━━━━━━━━━━━━━━━━━━━━\u001b[0m\u001b[37m\u001b[0m \u001b[1m0s\u001b[0m 13ms/step\n"
     ]
    }
   ],
   "source": [
    "test_ids = df.loc[test_indices, \"ID\"]  # Get IDs for test split only\n",
    "predict_and_save(model, X_test, test_ids, \"cnn\")\n"
   ]
  },
  {
   "cell_type": "markdown",
   "metadata": {},
   "source": [
    "**Avaliação**"
   ]
  },
  {
   "cell_type": "code",
   "execution_count": 13,
   "metadata": {},
   "outputs": [
    {
     "name": "stdout",
     "output_type": "stream",
     "text": [
      "\u001b[1m1/1\u001b[0m \u001b[32m━━━━━━━━━━━━━━━━━━━━\u001b[0m\u001b[37m\u001b[0m \u001b[1m0s\u001b[0m 191ms/step\n"
     ]
    }
   ],
   "source": [
    "predict_and_save(model, X_professor, data_set_professor[\"ID\"], \"cnn_dataset1\")\n"
   ]
  },
  {
   "cell_type": "markdown",
   "metadata": {},
   "source": [
    "## Classification Reports"
   ]
  },
  {
   "cell_type": "code",
   "execution_count": 14,
   "metadata": {},
   "outputs": [
    {
     "ename": "NameError",
     "evalue": "name 'model_cnn' is not defined",
     "output_type": "error",
     "traceback": [
      "\u001b[31m---------------------------------------------------------------------------\u001b[39m",
      "\u001b[31mNameError\u001b[39m                                 Traceback (most recent call last)",
      "\u001b[36mCell\u001b[39m\u001b[36m \u001b[39m\u001b[32mIn[14]\u001b[39m\u001b[32m, line 1\u001b[39m\n\u001b[32m----> \u001b[39m\u001b[32m1\u001b[39m \u001b[38;5;28mprint\u001b[39m(classification_report(y_test, \u001b[43mmodel_cnn\u001b[49m.predict(X_test) > \u001b[32m0.5\u001b[39m))\n",
      "\u001b[31mNameError\u001b[39m: name 'model_cnn' is not defined"
     ]
    }
   ],
   "source": [
    "print(classification_report(y_test, model_cnn.predict(X_test) > 0.5))"
   ]
  },
  {
   "cell_type": "code",
   "execution_count": 15,
   "metadata": {},
   "outputs": [
    {
     "name": "stdout",
     "output_type": "stream",
     "text": [
      "Acurácia: 0.5\n",
      "Relatório de Classificação:\n",
      "              precision    recall  f1-score   support\n",
      "\n",
      "          AI       0.00      0.00      0.00        15\n",
      "       Human       0.50      1.00      0.67        15\n",
      "\n",
      "    accuracy                           0.50        30\n",
      "   macro avg       0.25      0.50      0.33        30\n",
      "weighted avg       0.25      0.50      0.33        30\n",
      "\n"
     ]
    },
    {
     "name": "stderr",
     "output_type": "stream",
     "text": [
      "/home/rui/miniconda3/lib/python3.12/site-packages/sklearn/metrics/_classification.py:1565: UndefinedMetricWarning: Precision is ill-defined and being set to 0.0 in labels with no predicted samples. Use `zero_division` parameter to control this behavior.\n",
      "  _warn_prf(average, modifier, f\"{metric.capitalize()} is\", len(result))\n",
      "/home/rui/miniconda3/lib/python3.12/site-packages/sklearn/metrics/_classification.py:1565: UndefinedMetricWarning: Precision is ill-defined and being set to 0.0 in labels with no predicted samples. Use `zero_division` parameter to control this behavior.\n",
      "  _warn_prf(average, modifier, f\"{metric.capitalize()} is\", len(result))\n",
      "/home/rui/miniconda3/lib/python3.12/site-packages/sklearn/metrics/_classification.py:1565: UndefinedMetricWarning: Precision is ill-defined and being set to 0.0 in labels with no predicted samples. Use `zero_division` parameter to control this behavior.\n",
      "  _warn_prf(average, modifier, f\"{metric.capitalize()} is\", len(result))\n"
     ]
    }
   ],
   "source": [
    "# 1. Carregar os arquivos\n",
    "preds_df = pd.read_csv(\"score/cnn_dataset1.csv\", sep='\\t', on_bad_lines='skip')\n",
    "labels_df = pd.read_csv(\"data/dataset1_outputs.csv\", sep='\\t', on_bad_lines='skip')\n",
    "\n",
    "# 2. Garantir que as colunas corretas estão sendo usadas\n",
    "# Assumindo que a coluna de previsões se chama 'Pred' e a de verdade se chama 'Label'\n",
    "y_pred = preds_df['Label']\n",
    "y_true = labels_df['Label']\n",
    "\n",
    "# 3. Comparar previsões com os rótulos reais\n",
    "print(\"Acurácia:\", accuracy_score(y_true, y_pred))\n",
    "print(\"Relatório de Classificação:\")\n",
    "print(classification_report(y_true, y_pred))"
   ]
  }
 ],
 "metadata": {
  "kernelspec": {
   "display_name": "base",
   "language": "python",
   "name": "python3"
  },
  "language_info": {
   "codemirror_mode": {
    "name": "ipython",
    "version": 3
   },
   "file_extension": ".py",
   "mimetype": "text/x-python",
   "name": "python",
   "nbconvert_exporter": "python",
   "pygments_lexer": "ipython3",
   "version": "3.12.9"
  }
 },
 "nbformat": 4,
 "nbformat_minor": 2
}
