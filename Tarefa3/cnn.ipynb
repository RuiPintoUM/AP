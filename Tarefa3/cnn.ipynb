{
 "cells": [
  {
   "cell_type": "markdown",
   "metadata": {},
   "source": [
    "# Aprendizem Profunda - DNN\n",
    "### Tarefa III\n",
    "1. Rúben Gonçalo Araújo da Silva pg57900   \n",
    "2. José Luis Fraga Costa pg55970\n",
    "3. Pedro Miguel Costa Azevedo pg57897\n",
    "4. Rui Pedro Fernandes Madeira Pinto pg56010"
   ]
  },
  {
   "cell_type": "markdown",
   "metadata": {},
   "source": [
    "# Implementação"
   ]
  },
  {
   "cell_type": "markdown",
   "metadata": {},
   "source": [
    "### imports\n",
    "\n",
    "1. pandas\n",
    "2. tensorflow\n",
    "3. sklearn"
   ]
  },
  {
   "cell_type": "code",
   "execution_count": 5,
   "metadata": {},
   "outputs": [],
   "source": [
    "# Standard Library\n",
    "import os\n",
    "import csv\n",
    "\n",
    "# Data Handling\n",
    "import pandas as pd\n",
    "import numpy as np\n",
    "\n",
    "# Scikit-learn\n",
    "from sklearn.model_selection import train_test_split\n",
    "from sklearn.metrics import classification_report\n",
    "\n",
    "# TensorFlow / Keras\n",
    "import tensorflow as tf\n",
    "from tensorflow.keras.models import Sequential\n",
    "from tensorflow.keras.layers import (\n",
    "    Embedding, Flatten, Dense, Dropout, SimpleRNN, GRU, LSTM, \n",
    "    Bidirectional, GlobalMaxPooling1D, GlobalAveragePooling1D, \n",
    "    BatchNormalization, Conv1D\n",
    ")\n",
    "from tensorflow.keras.preprocessing.text import Tokenizer\n",
    "from tensorflow.keras.preprocessing.sequence import pad_sequences\n",
    "from tensorflow.keras.regularizers import l2\n",
    "from tensorflow.keras.callbacks import EarlyStopping, ReduceLROnPlateau\n",
    "from tensorflow.keras.optimizers import Adam\n",
    "\n",
    "# Hugging Face Transformers\n",
    "from transformers import (\n",
    "    AutoTokenizer, \n",
    "    TFAutoModelForSequenceClassification, \n",
    "    pipeline\n",
    ")\n"
   ]
  },
  {
   "cell_type": "markdown",
   "metadata": {},
   "source": [
    "### Input dos dados"
   ]
  },
  {
   "cell_type": "code",
   "execution_count": 6,
   "metadata": {},
   "outputs": [],
   "source": [
    "df = pd.read_csv(\"data/small_dataset.csv\")\n",
    "df = df.dropna(subset=[\"Label\"])\n",
    "df[\"Text\"] = df[\"Text\"].fillna(\"\")\n",
    "all_ids = df[\"ID\"].fillna(\"\")\n",
    "test_ids = df[\"ID\"].fillna(\"\")\n"
   ]
  },
  {
   "cell_type": "markdown",
   "metadata": {},
   "source": [
    "### Função pra gravar em csv"
   ]
  },
  {
   "cell_type": "code",
   "execution_count": null,
   "metadata": {},
   "outputs": [],
   "source": [
    "def to_csv(results_df, name):\n",
    "    os.makedirs(\"submissao2\", exist_ok=True)\n",
    "    path = f\"submissao2/{name}.csv\"\n",
    "    filtered_df = results_df[results_df[\"ID\"].notna() & (results_df[\"ID\"] != \"\")].copy()\n",
    "    filtered_df['prefix'] = filtered_df['ID'].str.extract(r'(D[0-9])')\n",
    "    filtered_df['number'] = filtered_df['ID'].str.extract(r'-(\\d+)').astype(int)\n",
    "    filtered_df = filtered_df.sort_values(by=['prefix', 'number'])\n",
    "\n",
    "    with open(path, 'w') as f:\n",
    "        f.write(\"ID\\tLabel\\n\") \n",
    "        for index, row in filtered_df.iterrows():\n",
    "            f.write(f\"{row['ID']}\\t{row['Label']}\\n\") "
   ]
  },
  {
   "cell_type": "code",
   "execution_count": 8,
   "metadata": {},
   "outputs": [],
   "source": [
    "def predict_and_save(model, X_data, ids, model_name):\n",
    "    # Generate predictions\n",
    "    y_pred = (model.predict(X_data) > 0.5).astype(int).flatten()\n",
    "\n",
    "    # Convert numeric predictions to labels\n",
    "    labels = [\"Human\" if label == 0 else \"AI\" for label in y_pred]\n",
    "    # Create results DataFrame\n",
    "    results_df = pd.DataFrame({\n",
    "        \"ID\": ids,\n",
    "        \"Label\": labels\n",
    "    })\n",
    "    to_csv(results_df, model_name)"
   ]
  },
  {
   "cell_type": "markdown",
   "metadata": {},
   "source": [
    "### Train Test Split (divisão de dados)"
   ]
  },
  {
   "cell_type": "code",
   "execution_count": 9,
   "metadata": {},
   "outputs": [
    {
     "name": "stdout",
     "output_type": "stream",
     "text": [
      "Original dataset size: 4053, Unique texts: 4051\n",
      "Overlap between train and test after deduplication: 0\n"
     ]
    }
   ],
   "source": [
    "# Remove duplicates by keeping the first occurrence\n",
    "df_unique = df.drop_duplicates(subset=[\"Text\"], keep=\"first\")\n",
    "\n",
    "# Check how many rows remain\n",
    "print(f\"Original dataset size: {len(df)}, Unique texts: {len(df_unique)}\")\n",
    "\n",
    "# Split the deduplicated dataset\n",
    "train_texts, test_texts, train_labels, test_labels = train_test_split(\n",
    "    df_unique[\"Text\"], df_unique[\"Label\"], test_size=0.2, random_state=42, stratify=df_unique[\"Label\"]\n",
    ")\n",
    "test_indices = test_texts.index\n",
    "\n",
    "train_texts, val_texts, train_labels, val_labels = train_test_split(\n",
    "    train_texts, train_labels, test_size=0.2, random_state=42, stratify=train_labels\n",
    ")\n",
    "\n",
    "# Verify no overlap\n",
    "print(f\"Overlap between train and test after deduplication: {len(set(train_texts) & set(test_texts))}\")\n"
   ]
  },
  {
   "cell_type": "markdown",
   "metadata": {},
   "source": [
    "### Tokenizer"
   ]
  },
  {
   "cell_type": "code",
   "execution_count": 10,
   "metadata": {},
   "outputs": [],
   "source": [
    "# Tokenize the data\n",
    "tokenizer = Tokenizer(num_words=10000)\n",
    "tokenizer.fit_on_texts(train_texts)\n",
    "\n",
    "X_train_seq = tokenizer.texts_to_sequences(train_texts)\n",
    "X_val_seq = tokenizer.texts_to_sequences(val_texts)\n",
    "X_test_seq = tokenizer.texts_to_sequences(test_texts)\n",
    "\n",
    "X_train = pad_sequences(X_train_seq, maxlen=100)\n",
    "X_val = pad_sequences(X_val_seq, maxlen=100)\n",
    "X_test = pad_sequences(X_test_seq, maxlen=100)\n",
    "\n",
    "# Convert string labels to numeric values\n",
    "label_map = {\"Human\": 0, \"AI\": 1}  # Define mapping\n",
    "y_train = np.array([label_map[label] for label in train_labels], dtype=np.float32)\n",
    "y_val = np.array([label_map[label] for label in val_labels], dtype=np.float32)\n",
    "y_test = np.array([label_map[label] for label in test_labels], dtype=np.float32)"
   ]
  },
  {
   "cell_type": "markdown",
   "metadata": {},
   "source": [
    "## Dataset de Avaliação"
   ]
  },
  {
   "cell_type": "code",
   "execution_count": 11,
   "metadata": {},
   "outputs": [],
   "source": [
    "data_set_professor = pd.read_csv(\"data/dataset3_inputs.csv\", sep=';', on_bad_lines='skip')\n",
    "data_set_professor[\"Text\"] = data_set_professor[\"Text\"].fillna(\"\")\n",
    "X_professor_seq = tokenizer.texts_to_sequences(data_set_professor[\"Text\"])\n",
    "X_professor = pad_sequences(X_professor_seq, maxlen=100)  "
   ]
  },
  {
   "cell_type": "markdown",
   "metadata": {},
   "source": [
    "### Early Stopping"
   ]
  },
  {
   "cell_type": "code",
   "execution_count": 12,
   "metadata": {},
   "outputs": [],
   "source": [
    "early_stopping = EarlyStopping(\n",
    "    monitor='val_loss',     \n",
    "    patience=10,            \n",
    "    restore_best_weights=True,           \n",
    ")"
   ]
  },
  {
   "cell_type": "markdown",
   "metadata": {},
   "source": [
    "### Reduce_lr"
   ]
  },
  {
   "cell_type": "code",
   "execution_count": 13,
   "metadata": {},
   "outputs": [],
   "source": [
    "reduce_lr = ReduceLROnPlateau(\n",
    "    monitor='val_loss',\n",
    "    factor=0.5, \n",
    "    patience=3,\n",
    "    min_lr=0.00005\n",
    ")"
   ]
  },
  {
   "cell_type": "markdown",
   "metadata": {},
   "source": [
    "## CNN"
   ]
  },
  {
   "cell_type": "code",
   "execution_count": 24,
   "metadata": {},
   "outputs": [
    {
     "name": "stdout",
     "output_type": "stream",
     "text": [
      "Epoch 1/30\n"
     ]
    },
    {
     "name": "stderr",
     "output_type": "stream",
     "text": [
      "c:\\Users\\ruben\\Desktop\\Minho\\MEI\\SI\\AP\\.venv\\Lib\\site-packages\\keras\\src\\layers\\core\\embedding.py:90: UserWarning: Argument `input_length` is deprecated. Just remove it.\n",
      "  warnings.warn(\n"
     ]
    },
    {
     "name": "stdout",
     "output_type": "stream",
     "text": [
      "\u001b[1m81/81\u001b[0m \u001b[32m━━━━━━━━━━━━━━━━━━━━\u001b[0m\u001b[37m\u001b[0m \u001b[1m1s\u001b[0m 7ms/step - accuracy: 0.6629 - loss: 0.6576 - val_accuracy: 0.9306 - val_loss: 0.2878 - learning_rate: 0.0010\n",
      "Epoch 2/30\n",
      "\u001b[1m81/81\u001b[0m \u001b[32m━━━━━━━━━━━━━━━━━━━━\u001b[0m\u001b[37m\u001b[0m \u001b[1m1s\u001b[0m 6ms/step - accuracy: 0.9355 - loss: 0.2219 - val_accuracy: 0.9599 - val_loss: 0.1133 - learning_rate: 0.0010\n",
      "Epoch 3/30\n",
      "\u001b[1m81/81\u001b[0m \u001b[32m━━━━━━━━━━━━━━━━━━━━\u001b[0m\u001b[37m\u001b[0m \u001b[1m1s\u001b[0m 7ms/step - accuracy: 0.9745 - loss: 0.0821 - val_accuracy: 0.9753 - val_loss: 0.0673 - learning_rate: 0.0010\n",
      "Epoch 4/30\n",
      "\u001b[1m81/81\u001b[0m \u001b[32m━━━━━━━━━━━━━━━━━━━━\u001b[0m\u001b[37m\u001b[0m \u001b[1m1s\u001b[0m 6ms/step - accuracy: 0.9910 - loss: 0.0443 - val_accuracy: 0.9815 - val_loss: 0.0511 - learning_rate: 0.0010\n",
      "Epoch 5/30\n",
      "\u001b[1m81/81\u001b[0m \u001b[32m━━━━━━━━━━━━━━━━━━━━\u001b[0m\u001b[37m\u001b[0m \u001b[1m1s\u001b[0m 6ms/step - accuracy: 0.9941 - loss: 0.0290 - val_accuracy: 0.9846 - val_loss: 0.0425 - learning_rate: 0.0010\n",
      "Epoch 6/30\n",
      "\u001b[1m81/81\u001b[0m \u001b[32m━━━━━━━━━━━━━━━━━━━━\u001b[0m\u001b[37m\u001b[0m \u001b[1m1s\u001b[0m 7ms/step - accuracy: 0.9966 - loss: 0.0186 - val_accuracy: 0.9877 - val_loss: 0.0367 - learning_rate: 0.0010\n",
      "Epoch 7/30\n",
      "\u001b[1m81/81\u001b[0m \u001b[32m━━━━━━━━━━━━━━━━━━━━\u001b[0m\u001b[37m\u001b[0m \u001b[1m1s\u001b[0m 6ms/step - accuracy: 0.9974 - loss: 0.0151 - val_accuracy: 0.9892 - val_loss: 0.0337 - learning_rate: 0.0010\n",
      "Epoch 8/30\n",
      "\u001b[1m81/81\u001b[0m \u001b[32m━━━━━━━━━━━━━━━━━━━━\u001b[0m\u001b[37m\u001b[0m \u001b[1m1s\u001b[0m 7ms/step - accuracy: 0.9992 - loss: 0.0071 - val_accuracy: 0.9907 - val_loss: 0.0323 - learning_rate: 0.0010\n",
      "Epoch 9/30\n",
      "\u001b[1m81/81\u001b[0m \u001b[32m━━━━━━━━━━━━━━━━━━━━\u001b[0m\u001b[37m\u001b[0m \u001b[1m1s\u001b[0m 7ms/step - accuracy: 0.9990 - loss: 0.0056 - val_accuracy: 0.9877 - val_loss: 0.0321 - learning_rate: 0.0010\n",
      "Epoch 10/30\n",
      "\u001b[1m81/81\u001b[0m \u001b[32m━━━━━━━━━━━━━━━━━━━━\u001b[0m\u001b[37m\u001b[0m \u001b[1m1s\u001b[0m 8ms/step - accuracy: 1.0000 - loss: 0.0042 - val_accuracy: 0.9877 - val_loss: 0.0306 - learning_rate: 0.0010\n",
      "Epoch 11/30\n",
      "\u001b[1m81/81\u001b[0m \u001b[32m━━━━━━━━━━━━━━━━━━━━\u001b[0m\u001b[37m\u001b[0m \u001b[1m1s\u001b[0m 8ms/step - accuracy: 1.0000 - loss: 0.0026 - val_accuracy: 0.9877 - val_loss: 0.0297 - learning_rate: 0.0010\n",
      "Epoch 12/30\n",
      "\u001b[1m81/81\u001b[0m \u001b[32m━━━━━━━━━━━━━━━━━━━━\u001b[0m\u001b[37m\u001b[0m \u001b[1m1s\u001b[0m 8ms/step - accuracy: 1.0000 - loss: 0.0020 - val_accuracy: 0.9877 - val_loss: 0.0291 - learning_rate: 0.0010\n",
      "Epoch 13/30\n",
      "\u001b[1m81/81\u001b[0m \u001b[32m━━━━━━━━━━━━━━━━━━━━\u001b[0m\u001b[37m\u001b[0m \u001b[1m1s\u001b[0m 8ms/step - accuracy: 1.0000 - loss: 0.0016 - val_accuracy: 0.9861 - val_loss: 0.0289 - learning_rate: 0.0010\n",
      "Epoch 14/30\n",
      "\u001b[1m81/81\u001b[0m \u001b[32m━━━━━━━━━━━━━━━━━━━━\u001b[0m\u001b[37m\u001b[0m \u001b[1m1s\u001b[0m 8ms/step - accuracy: 1.0000 - loss: 0.0014 - val_accuracy: 0.9877 - val_loss: 0.0287 - learning_rate: 0.0010\n",
      "Epoch 15/30\n",
      "\u001b[1m81/81\u001b[0m \u001b[32m━━━━━━━━━━━━━━━━━━━━\u001b[0m\u001b[37m\u001b[0m \u001b[1m1s\u001b[0m 7ms/step - accuracy: 1.0000 - loss: 0.0011 - val_accuracy: 0.9877 - val_loss: 0.0286 - learning_rate: 0.0010\n",
      "Epoch 16/30\n",
      "\u001b[1m81/81\u001b[0m \u001b[32m━━━━━━━━━━━━━━━━━━━━\u001b[0m\u001b[37m\u001b[0m \u001b[1m1s\u001b[0m 7ms/step - accuracy: 1.0000 - loss: 9.3361e-04 - val_accuracy: 0.9907 - val_loss: 0.0276 - learning_rate: 0.0010\n",
      "Epoch 17/30\n",
      "\u001b[1m81/81\u001b[0m \u001b[32m━━━━━━━━━━━━━━━━━━━━\u001b[0m\u001b[37m\u001b[0m \u001b[1m1s\u001b[0m 7ms/step - accuracy: 1.0000 - loss: 9.4588e-04 - val_accuracy: 0.9892 - val_loss: 0.0273 - learning_rate: 0.0010\n",
      "Epoch 18/30\n",
      "\u001b[1m81/81\u001b[0m \u001b[32m━━━━━━━━━━━━━━━━━━━━\u001b[0m\u001b[37m\u001b[0m \u001b[1m1s\u001b[0m 7ms/step - accuracy: 1.0000 - loss: 6.4168e-04 - val_accuracy: 0.9892 - val_loss: 0.0271 - learning_rate: 0.0010\n",
      "Epoch 19/30\n",
      "\u001b[1m81/81\u001b[0m \u001b[32m━━━━━━━━━━━━━━━━━━━━\u001b[0m\u001b[37m\u001b[0m \u001b[1m1s\u001b[0m 13ms/step - accuracy: 1.0000 - loss: 5.0772e-04 - val_accuracy: 0.9892 - val_loss: 0.0264 - learning_rate: 0.0010\n",
      "Epoch 20/30\n",
      "\u001b[1m81/81\u001b[0m \u001b[32m━━━━━━━━━━━━━━━━━━━━\u001b[0m\u001b[37m\u001b[0m \u001b[1m1s\u001b[0m 12ms/step - accuracy: 1.0000 - loss: 5.2838e-04 - val_accuracy: 0.9892 - val_loss: 0.0263 - learning_rate: 0.0010\n",
      "Epoch 21/30\n",
      "\u001b[1m81/81\u001b[0m \u001b[32m━━━━━━━━━━━━━━━━━━━━\u001b[0m\u001b[37m\u001b[0m \u001b[1m1s\u001b[0m 12ms/step - accuracy: 1.0000 - loss: 5.0446e-04 - val_accuracy: 0.9923 - val_loss: 0.0256 - learning_rate: 0.0010\n",
      "Epoch 22/30\n",
      "\u001b[1m81/81\u001b[0m \u001b[32m━━━━━━━━━━━━━━━━━━━━\u001b[0m\u001b[37m\u001b[0m \u001b[1m1s\u001b[0m 12ms/step - accuracy: 1.0000 - loss: 4.6123e-04 - val_accuracy: 0.9892 - val_loss: 0.0258 - learning_rate: 0.0010\n",
      "Epoch 23/30\n",
      "\u001b[1m81/81\u001b[0m \u001b[32m━━━━━━━━━━━━━━━━━━━━\u001b[0m\u001b[37m\u001b[0m \u001b[1m1s\u001b[0m 10ms/step - accuracy: 1.0000 - loss: 3.2242e-04 - val_accuracy: 0.9892 - val_loss: 0.0260 - learning_rate: 0.0010\n",
      "Epoch 24/30\n",
      "\u001b[1m81/81\u001b[0m \u001b[32m━━━━━━━━━━━━━━━━━━━━\u001b[0m\u001b[37m\u001b[0m \u001b[1m1s\u001b[0m 9ms/step - accuracy: 1.0000 - loss: 3.2019e-04 - val_accuracy: 0.9907 - val_loss: 0.0253 - learning_rate: 0.0010\n",
      "Epoch 25/30\n",
      "\u001b[1m81/81\u001b[0m \u001b[32m━━━━━━━━━━━━━━━━━━━━\u001b[0m\u001b[37m\u001b[0m \u001b[1m1s\u001b[0m 10ms/step - accuracy: 1.0000 - loss: 3.0220e-04 - val_accuracy: 0.9923 - val_loss: 0.0247 - learning_rate: 0.0010\n",
      "Epoch 26/30\n",
      "\u001b[1m81/81\u001b[0m \u001b[32m━━━━━━━━━━━━━━━━━━━━\u001b[0m\u001b[37m\u001b[0m \u001b[1m1s\u001b[0m 10ms/step - accuracy: 1.0000 - loss: 2.3309e-04 - val_accuracy: 0.9907 - val_loss: 0.0244 - learning_rate: 0.0010\n",
      "Epoch 27/30\n",
      "\u001b[1m81/81\u001b[0m \u001b[32m━━━━━━━━━━━━━━━━━━━━\u001b[0m\u001b[37m\u001b[0m \u001b[1m1s\u001b[0m 12ms/step - accuracy: 1.0000 - loss: 2.7305e-04 - val_accuracy: 0.9892 - val_loss: 0.0254 - learning_rate: 0.0010\n",
      "Epoch 28/30\n",
      "\u001b[1m81/81\u001b[0m \u001b[32m━━━━━━━━━━━━━━━━━━━━\u001b[0m\u001b[37m\u001b[0m \u001b[1m1s\u001b[0m 10ms/step - accuracy: 1.0000 - loss: 2.0320e-04 - val_accuracy: 0.9892 - val_loss: 0.0248 - learning_rate: 0.0010\n",
      "Epoch 29/30\n",
      "\u001b[1m81/81\u001b[0m \u001b[32m━━━━━━━━━━━━━━━━━━━━\u001b[0m\u001b[37m\u001b[0m \u001b[1m1s\u001b[0m 8ms/step - accuracy: 1.0000 - loss: 1.8982e-04 - val_accuracy: 0.9892 - val_loss: 0.0254 - learning_rate: 0.0010\n",
      "Epoch 30/30\n",
      "\u001b[1m81/81\u001b[0m \u001b[32m━━━━━━━━━━━━━━━━━━━━\u001b[0m\u001b[37m\u001b[0m \u001b[1m1s\u001b[0m 8ms/step - accuracy: 1.0000 - loss: 2.3358e-04 - val_accuracy: 0.9892 - val_loss: 0.0246 - learning_rate: 5.0000e-04\n"
     ]
    },
    {
     "data": {
      "text/plain": [
       "<keras.src.callbacks.history.History at 0x1981d98ab70>"
      ]
     },
     "execution_count": 24,
     "metadata": {},
     "output_type": "execute_result"
    }
   ],
   "source": [
    "model_cnn = Sequential([\n",
    "    Embedding(input_dim=10000, output_dim=32, input_length=100),\n",
    "    Dropout(0.2),\n",
    "    Conv1D(filters=128, kernel_size=3, activation='relu'),\n",
    "    GlobalMaxPooling1D(),\n",
    "    Dense(1, activation='sigmoid')\n",
    "])\n",
    "\n",
    "model_cnn.compile(\n",
    "    loss='binary_crossentropy',\n",
    "    optimizer=Adam(0.001),\n",
    "    metrics=['accuracy']\n",
    ")\n",
    "\n",
    "model_cnn.fit(\n",
    "    X_train, y_train,\n",
    "    validation_data=(X_val, y_val),\n",
    "    epochs=30,\n",
    "    batch_size=32,\n",
    "    callbacks=[early_stopping, reduce_lr]\n",
    ")"
   ]
  },
  {
   "cell_type": "markdown",
   "metadata": {},
   "source": [
    "## Simple RNN"
   ]
  },
  {
   "cell_type": "markdown",
   "metadata": {},
   "source": [
    "# Correr Modelos"
   ]
  },
  {
   "cell_type": "markdown",
   "metadata": {},
   "source": [
    "**Test Set**"
   ]
  },
  {
   "cell_type": "code",
   "execution_count": 22,
   "metadata": {},
   "outputs": [
    {
     "name": "stdout",
     "output_type": "stream",
     "text": [
      "\u001b[1m26/26\u001b[0m \u001b[32m━━━━━━━━━━━━━━━━━━━━\u001b[0m\u001b[37m\u001b[0m \u001b[1m0s\u001b[0m 2ms/step \n"
     ]
    }
   ],
   "source": [
    "test_ids = df.loc[test_indices, \"ID\"]  # Get IDs for test split only\n",
    "predict_and_save(model_cnn, X_test, test_ids, \"cnn\")\n"
   ]
  },
  {
   "cell_type": "markdown",
   "metadata": {},
   "source": [
    "**Avaliação**"
   ]
  },
  {
   "cell_type": "code",
   "execution_count": 23,
   "metadata": {},
   "outputs": [
    {
     "name": "stdout",
     "output_type": "stream",
     "text": [
      "\u001b[1m4/4\u001b[0m \u001b[32m━━━━━━━━━━━━━━━━━━━━\u001b[0m\u001b[37m\u001b[0m \u001b[1m0s\u001b[0m 6ms/step \n"
     ]
    }
   ],
   "source": [
    "predict_and_save(model_cnn, X_professor, data_set_professor[\"ID\"], \"cnn_professor\")\n"
   ]
  },
  {
   "cell_type": "markdown",
   "metadata": {},
   "source": [
    "## Classification Reports"
   ]
  },
  {
   "cell_type": "code",
   "execution_count": 20,
   "metadata": {},
   "outputs": [
    {
     "name": "stdout",
     "output_type": "stream",
     "text": [
      "\u001b[1m26/26\u001b[0m \u001b[32m━━━━━━━━━━━━━━━━━━━━\u001b[0m\u001b[37m\u001b[0m \u001b[1m0s\u001b[0m 2ms/step \n",
      "              precision    recall  f1-score   support\n",
      "\n",
      "         0.0       0.99      1.00      0.99       420\n",
      "         1.0       0.99      0.98      0.99       391\n",
      "\n",
      "    accuracy                           0.99       811\n",
      "   macro avg       0.99      0.99      0.99       811\n",
      "weighted avg       0.99      0.99      0.99       811\n",
      "\n"
     ]
    }
   ],
   "source": [
    "print(classification_report(y_test, model_cnn.predict(X_test) > 0.5))"
   ]
  }
 ],
 "metadata": {
  "kernelspec": {
   "display_name": ".venv",
   "language": "python",
   "name": "python3"
  },
  "language_info": {
   "codemirror_mode": {
    "name": "ipython",
    "version": 3
   },
   "file_extension": ".py",
   "mimetype": "text/x-python",
   "name": "python",
   "nbconvert_exporter": "python",
   "pygments_lexer": "ipython3",
   "version": "3.12.9"
  }
 },
 "nbformat": 4,
 "nbformat_minor": 2
}
